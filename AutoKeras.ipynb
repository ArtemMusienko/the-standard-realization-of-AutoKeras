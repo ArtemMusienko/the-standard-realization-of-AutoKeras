{
  "nbformat": 4,
  "nbformat_minor": 0,
  "metadata": {
    "colab": {
      "provenance": [],
      "gpuType": "T4"
    },
    "kernelspec": {
      "name": "python3",
      "display_name": "Python 3"
    },
    "language_info": {
      "name": "python"
    },
    "accelerator": "GPU"
  },
  "cells": [
    {
      "cell_type": "markdown",
      "source": [
        "# Решение задачи:"
      ],
      "metadata": {
        "id": "jUBY049Mb-qN"
      }
    },
    {
      "cell_type": "markdown",
      "source": [
        "Будем использовать [датасет](https://www.kaggle.com/datasets/tobiasbueck/multilingual-customer-support-tickets/discussion?sort=hotness), найденный мной на просторах Kaggle. Скачаем его:"
      ],
      "metadata": {
        "id": "DsCjX5t2bxz1"
      }
    },
    {
      "cell_type": "code",
      "source": [
        "!wget --no-check-certificate 'https://drive.google.com/uc?export=download&id=1fxwQ_BaFylGqZ-eay5IuIxSXF-ZruS82' -O something.zip"
      ],
      "metadata": {
        "colab": {
          "base_uri": "https://localhost:8080/"
        },
        "id": "Mc3Bn-0XbLxP",
        "outputId": "3492d3a7-4f1f-40f5-8600-73e6c8221b64"
      },
      "execution_count": null,
      "outputs": [
        {
          "output_type": "stream",
          "name": "stdout",
          "text": [
            "--2025-06-23 21:09:28--  https://drive.google.com/uc?export=download&id=1fxwQ_BaFylGqZ-eay5IuIxSXF-ZruS82\n",
            "Resolving drive.google.com (drive.google.com)... 74.125.26.138, 74.125.26.139, 74.125.26.101, ...\n",
            "Connecting to drive.google.com (drive.google.com)|74.125.26.138|:443... connected.\n",
            "HTTP request sent, awaiting response... 303 See Other\n",
            "Location: https://drive.usercontent.google.com/download?id=1fxwQ_BaFylGqZ-eay5IuIxSXF-ZruS82&export=download [following]\n",
            "--2025-06-23 21:09:28--  https://drive.usercontent.google.com/download?id=1fxwQ_BaFylGqZ-eay5IuIxSXF-ZruS82&export=download\n",
            "Resolving drive.usercontent.google.com (drive.usercontent.google.com)... 172.217.203.132, 2607:f8b0:400c:c07::84\n",
            "Connecting to drive.usercontent.google.com (drive.usercontent.google.com)|172.217.203.132|:443... connected.\n",
            "HTTP request sent, awaiting response... 200 OK\n",
            "Length: 16861699 (16M) [application/octet-stream]\n",
            "Saving to: ‘something.zip’\n",
            "\n",
            "something.zip       100%[===================>]  16.08M   100MB/s    in 0.2s    \n",
            "\n",
            "2025-06-23 21:09:35 (100 MB/s) - ‘something.zip’ saved [16861699/16861699]\n",
            "\n"
          ]
        }
      ]
    },
    {
      "cell_type": "markdown",
      "source": [
        "Разархивируем датасета во временную папку 'dataset'"
      ],
      "metadata": {
        "id": "E3hGQBngbri7"
      }
    },
    {
      "cell_type": "code",
      "source": [
        "!unzip -qo \"something.zip\" -d ./dataset"
      ],
      "metadata": {
        "id": "FgBsJ5koblhW"
      },
      "execution_count": null,
      "outputs": []
    },
    {
      "cell_type": "markdown",
      "source": [
        "Установим и импортируем необъодимые библиотеки. Для работы с autokeras нам приходится обновлять более старую версию autokeras, а также устанавливать более старые версии `tensorflow` и `keras-nlp`, так как при установке последней версии `autokeras` возникают ошибки в процессе обучения:"
      ],
      "metadata": {
        "id": "lTGudh1nb64W"
      }
    },
    {
      "cell_type": "code",
      "source": [
        "!pip install autokeras==1.1.0 tensorflow==2.15.1 keras-nlp==0.5.1"
      ],
      "metadata": {
        "colab": {
          "base_uri": "https://localhost:8080/"
        },
        "id": "qFS7bPm6b7Lg",
        "outputId": "4308b9fc-c7d6-472c-f64f-437d7a5bfaed"
      },
      "execution_count": null,
      "outputs": [
        {
          "output_type": "stream",
          "name": "stdout",
          "text": [
            "Requirement already satisfied: autokeras==1.1.0 in /usr/local/lib/python3.11/dist-packages (1.1.0)\n",
            "Requirement already satisfied: tensorflow==2.15.1 in /usr/local/lib/python3.11/dist-packages (2.15.1)\n",
            "Requirement already satisfied: keras-nlp==0.5.1 in /usr/local/lib/python3.11/dist-packages (0.5.1)\n",
            "Requirement already satisfied: packaging in /usr/local/lib/python3.11/dist-packages (from autokeras==1.1.0) (24.2)\n",
            "Requirement already satisfied: keras-tuner>=1.1.0 in /usr/local/lib/python3.11/dist-packages (from autokeras==1.1.0) (1.4.7)\n",
            "Requirement already satisfied: pandas in /usr/local/lib/python3.11/dist-packages (from autokeras==1.1.0) (2.2.2)\n",
            "Requirement already satisfied: absl-py>=1.0.0 in /usr/local/lib/python3.11/dist-packages (from tensorflow==2.15.1) (1.4.0)\n",
            "Requirement already satisfied: astunparse>=1.6.0 in /usr/local/lib/python3.11/dist-packages (from tensorflow==2.15.1) (1.6.3)\n",
            "Requirement already satisfied: flatbuffers>=23.5.26 in /usr/local/lib/python3.11/dist-packages (from tensorflow==2.15.1) (25.2.10)\n",
            "Requirement already satisfied: gast!=0.5.0,!=0.5.1,!=0.5.2,>=0.2.1 in /usr/local/lib/python3.11/dist-packages (from tensorflow==2.15.1) (0.6.0)\n",
            "Requirement already satisfied: google-pasta>=0.1.1 in /usr/local/lib/python3.11/dist-packages (from tensorflow==2.15.1) (0.2.0)\n",
            "Requirement already satisfied: h5py>=2.9.0 in /usr/local/lib/python3.11/dist-packages (from tensorflow==2.15.1) (3.14.0)\n",
            "Requirement already satisfied: libclang>=13.0.0 in /usr/local/lib/python3.11/dist-packages (from tensorflow==2.15.1) (18.1.1)\n",
            "Requirement already satisfied: ml-dtypes~=0.3.1 in /usr/local/lib/python3.11/dist-packages (from tensorflow==2.15.1) (0.3.2)\n",
            "Requirement already satisfied: numpy<2.0.0,>=1.23.5 in /usr/local/lib/python3.11/dist-packages (from tensorflow==2.15.1) (1.26.4)\n",
            "Requirement already satisfied: opt-einsum>=2.3.2 in /usr/local/lib/python3.11/dist-packages (from tensorflow==2.15.1) (3.4.0)\n",
            "Requirement already satisfied: protobuf!=4.21.0,!=4.21.1,!=4.21.2,!=4.21.3,!=4.21.4,!=4.21.5,<5.0.0dev,>=3.20.3 in /usr/local/lib/python3.11/dist-packages (from tensorflow==2.15.1) (4.25.8)\n",
            "Requirement already satisfied: setuptools in /usr/local/lib/python3.11/dist-packages (from tensorflow==2.15.1) (75.2.0)\n",
            "Requirement already satisfied: six>=1.12.0 in /usr/local/lib/python3.11/dist-packages (from tensorflow==2.15.1) (1.17.0)\n",
            "Requirement already satisfied: termcolor>=1.1.0 in /usr/local/lib/python3.11/dist-packages (from tensorflow==2.15.1) (3.1.0)\n",
            "Requirement already satisfied: typing-extensions>=3.6.6 in /usr/local/lib/python3.11/dist-packages (from tensorflow==2.15.1) (4.14.0)\n",
            "Requirement already satisfied: wrapt<1.15,>=1.11.0 in /usr/local/lib/python3.11/dist-packages (from tensorflow==2.15.1) (1.14.1)\n",
            "Requirement already satisfied: tensorflow-io-gcs-filesystem>=0.23.1 in /usr/local/lib/python3.11/dist-packages (from tensorflow==2.15.1) (0.37.1)\n",
            "Requirement already satisfied: grpcio<2.0,>=1.24.3 in /usr/local/lib/python3.11/dist-packages (from tensorflow==2.15.1) (1.73.0)\n",
            "Requirement already satisfied: tensorboard<2.16,>=2.15 in /usr/local/lib/python3.11/dist-packages (from tensorflow==2.15.1) (2.15.2)\n",
            "Requirement already satisfied: tensorflow-estimator<2.16,>=2.15.0 in /usr/local/lib/python3.11/dist-packages (from tensorflow==2.15.1) (2.15.0)\n",
            "Requirement already satisfied: keras<2.16,>=2.15.0 in /usr/local/lib/python3.11/dist-packages (from tensorflow==2.15.1) (2.15.0)\n",
            "Requirement already satisfied: tensorflow-text in /usr/local/lib/python3.11/dist-packages (from keras-nlp==0.5.1) (2.15.0)\n",
            "Requirement already satisfied: wheel<1.0,>=0.23.0 in /usr/local/lib/python3.11/dist-packages (from astunparse>=1.6.0->tensorflow==2.15.1) (0.45.1)\n",
            "Requirement already satisfied: requests in /usr/local/lib/python3.11/dist-packages (from keras-tuner>=1.1.0->autokeras==1.1.0) (2.32.3)\n",
            "Requirement already satisfied: kt-legacy in /usr/local/lib/python3.11/dist-packages (from keras-tuner>=1.1.0->autokeras==1.1.0) (1.0.5)\n",
            "Requirement already satisfied: google-auth<3,>=1.6.3 in /usr/local/lib/python3.11/dist-packages (from tensorboard<2.16,>=2.15->tensorflow==2.15.1) (2.38.0)\n",
            "Requirement already satisfied: google-auth-oauthlib<2,>=0.5 in /usr/local/lib/python3.11/dist-packages (from tensorboard<2.16,>=2.15->tensorflow==2.15.1) (1.2.2)\n",
            "Requirement already satisfied: markdown>=2.6.8 in /usr/local/lib/python3.11/dist-packages (from tensorboard<2.16,>=2.15->tensorflow==2.15.1) (3.8)\n",
            "Requirement already satisfied: tensorboard-data-server<0.8.0,>=0.7.0 in /usr/local/lib/python3.11/dist-packages (from tensorboard<2.16,>=2.15->tensorflow==2.15.1) (0.7.2)\n",
            "Requirement already satisfied: werkzeug>=1.0.1 in /usr/local/lib/python3.11/dist-packages (from tensorboard<2.16,>=2.15->tensorflow==2.15.1) (3.1.3)\n",
            "Requirement already satisfied: python-dateutil>=2.8.2 in /usr/local/lib/python3.11/dist-packages (from pandas->autokeras==1.1.0) (2.9.0.post0)\n",
            "Requirement already satisfied: pytz>=2020.1 in /usr/local/lib/python3.11/dist-packages (from pandas->autokeras==1.1.0) (2025.2)\n",
            "Requirement already satisfied: tzdata>=2022.7 in /usr/local/lib/python3.11/dist-packages (from pandas->autokeras==1.1.0) (2025.2)\n",
            "Requirement already satisfied: tensorflow-hub>=0.13.0 in /usr/local/lib/python3.11/dist-packages (from tensorflow-text->keras-nlp==0.5.1) (0.16.1)\n",
            "Requirement already satisfied: cachetools<6.0,>=2.0.0 in /usr/local/lib/python3.11/dist-packages (from google-auth<3,>=1.6.3->tensorboard<2.16,>=2.15->tensorflow==2.15.1) (5.5.2)\n",
            "Requirement already satisfied: pyasn1-modules>=0.2.1 in /usr/local/lib/python3.11/dist-packages (from google-auth<3,>=1.6.3->tensorboard<2.16,>=2.15->tensorflow==2.15.1) (0.4.2)\n",
            "Requirement already satisfied: rsa<5,>=3.1.4 in /usr/local/lib/python3.11/dist-packages (from google-auth<3,>=1.6.3->tensorboard<2.16,>=2.15->tensorflow==2.15.1) (4.9.1)\n",
            "Requirement already satisfied: requests-oauthlib>=0.7.0 in /usr/local/lib/python3.11/dist-packages (from google-auth-oauthlib<2,>=0.5->tensorboard<2.16,>=2.15->tensorflow==2.15.1) (2.0.0)\n",
            "Requirement already satisfied: charset-normalizer<4,>=2 in /usr/local/lib/python3.11/dist-packages (from requests->keras-tuner>=1.1.0->autokeras==1.1.0) (3.4.2)\n",
            "Requirement already satisfied: idna<4,>=2.5 in /usr/local/lib/python3.11/dist-packages (from requests->keras-tuner>=1.1.0->autokeras==1.1.0) (3.10)\n",
            "Requirement already satisfied: urllib3<3,>=1.21.1 in /usr/local/lib/python3.11/dist-packages (from requests->keras-tuner>=1.1.0->autokeras==1.1.0) (2.4.0)\n",
            "Requirement already satisfied: certifi>=2017.4.17 in /usr/local/lib/python3.11/dist-packages (from requests->keras-tuner>=1.1.0->autokeras==1.1.0) (2025.6.15)\n",
            "Requirement already satisfied: tf-keras>=2.14.1 in /usr/local/lib/python3.11/dist-packages (from tensorflow-hub>=0.13.0->tensorflow-text->keras-nlp==0.5.1) (2.15.1)\n",
            "Requirement already satisfied: MarkupSafe>=2.1.1 in /usr/local/lib/python3.11/dist-packages (from werkzeug>=1.0.1->tensorboard<2.16,>=2.15->tensorflow==2.15.1) (3.0.2)\n",
            "Requirement already satisfied: pyasn1<0.7.0,>=0.6.1 in /usr/local/lib/python3.11/dist-packages (from pyasn1-modules>=0.2.1->google-auth<3,>=1.6.3->tensorboard<2.16,>=2.15->tensorflow==2.15.1) (0.6.1)\n",
            "Requirement already satisfied: oauthlib>=3.0.0 in /usr/local/lib/python3.11/dist-packages (from requests-oauthlib>=0.7.0->google-auth-oauthlib<2,>=0.5->tensorboard<2.16,>=2.15->tensorflow==2.15.1) (3.2.2)\n"
          ]
        }
      ]
    },
    {
      "cell_type": "markdown",
      "source": [
        "Проверим, что подтянулись правильные зависимости и установим оставшиеся библиотеки, необходимые для решение задачи:"
      ],
      "metadata": {
        "id": "qju1xDGBjSkt"
      }
    },
    {
      "cell_type": "code",
      "source": [
        "import tensorflow as tf\n",
        "tf.__version__"
      ],
      "metadata": {
        "colab": {
          "base_uri": "https://localhost:8080/",
          "height": 35
        },
        "id": "dDlA5zKot9ir",
        "outputId": "eb398036-14ee-46ba-de75-e8f7a7a5f90b"
      },
      "execution_count": null,
      "outputs": [
        {
          "output_type": "execute_result",
          "data": {
            "text/plain": [
              "'2.15.1'"
            ],
            "application/vnd.google.colaboratory.intrinsic+json": {
              "type": "string"
            }
          },
          "metadata": {},
          "execution_count": 4
        }
      ]
    },
    {
      "cell_type": "code",
      "source": [
        "import keras_nlp as nlp\n",
        "nlp.__version__"
      ],
      "metadata": {
        "id": "uh63gqdKjSy0",
        "colab": {
          "base_uri": "https://localhost:8080/",
          "height": 35
        },
        "outputId": "a58fd773-683f-47dd-ea7c-a75b7a70ad9f"
      },
      "execution_count": null,
      "outputs": [
        {
          "output_type": "execute_result",
          "data": {
            "text/plain": [
              "'0.5.1'"
            ],
            "application/vnd.google.colaboratory.intrinsic+json": {
              "type": "string"
            }
          },
          "metadata": {},
          "execution_count": 5
        }
      ]
    },
    {
      "cell_type": "code",
      "source": [
        "import numpy as np\n",
        "import pandas as pd\n",
        "import re\n",
        "import tensorflow as tf\n",
        "import autokeras as ak\n",
        "import seaborn as sns\n",
        "from sklearn.model_selection import train_test_split\n",
        "from sklearn.metrics import classification_report, confusion_matrix\n",
        "import matplotlib.pyplot as plt\n",
        "from sklearn.utils.class_weight import compute_class_weight\n",
        "%matplotlib inline"
      ],
      "metadata": {
        "id": "8LnL6cPduE2A"
      },
      "execution_count": null,
      "outputs": []
    },
    {
      "cell_type": "markdown",
      "source": [
        "Загружаем данные в DataFrame и изучим их:"
      ],
      "metadata": {
        "id": "jJQOQ5Y18ofX"
      }
    },
    {
      "cell_type": "code",
      "source": [
        "df_main = pd.read_csv(\"/content/dataset/aa_dataset-tickets-multi-lang-5-2-50-version.csv\")\n",
        "df_main = df_main.drop_duplicates().dropna()\n",
        "df_main.head()"
      ],
      "metadata": {
        "id": "jSYWZbYO8ouy",
        "colab": {
          "base_uri": "https://localhost:8080/",
          "height": 310
        },
        "outputId": "e04347b9-8178-4b58-dd48-02610914e3c2"
      },
      "execution_count": null,
      "outputs": [
        {
          "output_type": "execute_result",
          "data": {
            "text/plain": [
              "                                               subject  \\\n",
              "99                                        Issue Report   \n",
              "135            Problem with Printer Not Printing Files   \n",
              "175  Dringliche Mitteilung: Umfangreiche Serviceunt...   \n",
              "195              Ausfall der Cloud-basierten Plattform   \n",
              "209                            Analytics System Outage   \n",
              "\n",
              "                                                  body  \\\n",
              "99   Dear Customer Support Team,\\n\\nI am submitting...   \n",
              "135  Dear Support Team,\\n\\nI am reaching out to req...   \n",
              "175  Sehr geehrtes Support-Team,\\n\\nich möchte eine...   \n",
              "195  Sehr geehrtes Support-Team,\\n\\nich möchte eine...   \n",
              "209  Sehr geehrter Kundendienst,\\n\\nWir erfahren mo...   \n",
              "\n",
              "                                                answer      type  \\\n",
              "99   Thank you for bringing the service issue to ou...  Incident   \n",
              "135  Thank you for contacting us, <name>. To assist...   Problem   \n",
              "175  Vielen Dank für die dringende Mitteilung. Um r...  Incident   \n",
              "195  Vielen Dank, dass Sie uns wegen des jüngsten A...   Problem   \n",
              "209  <name>,\\n\\nvielen Dank, dass Sie das Problem m...  Incident   \n",
              "\n",
              "                 queue priority language  version       tag_1       tag_2  \\\n",
              "99   Technical Support   medium       en       51  Disruption      Outage   \n",
              "135   Customer Service      low       en       51     Printer    Hardware   \n",
              "175  Technical Support     high       de       51      Outage  Disruption   \n",
              "195  Technical Support     high       de       51      Outage  Disruption   \n",
              "209  Technical Support     high       de       51      Outage  Disruption   \n",
              "\n",
              "           tag_3        tag_4    tag_5          tag_6                tag_7  \\\n",
              "99   Performance        Cloud     SaaS        Service             Workflow   \n",
              "135        Issue      Support  Printer       Document           Connection   \n",
              "175     Hardware     Software  Service         System             Recovery   \n",
              "195  Performance      Service    Cloud      Stability         Availability   \n",
              "209      Network  Performance   Server  Data Pipeline  Real-time Analytics   \n",
              "\n",
              "            tag_8  \n",
              "99   Tech Support  \n",
              "135           Ink  \n",
              "175   Maintenance  \n",
              "195  Tech Support  \n",
              "209            IT  "
            ],
            "text/html": [
              "\n",
              "  <div id=\"df-f746aa11-32f0-4d25-8771-e1d27af52b32\" class=\"colab-df-container\">\n",
              "    <div>\n",
              "<style scoped>\n",
              "    .dataframe tbody tr th:only-of-type {\n",
              "        vertical-align: middle;\n",
              "    }\n",
              "\n",
              "    .dataframe tbody tr th {\n",
              "        vertical-align: top;\n",
              "    }\n",
              "\n",
              "    .dataframe thead th {\n",
              "        text-align: right;\n",
              "    }\n",
              "</style>\n",
              "<table border=\"1\" class=\"dataframe\">\n",
              "  <thead>\n",
              "    <tr style=\"text-align: right;\">\n",
              "      <th></th>\n",
              "      <th>subject</th>\n",
              "      <th>body</th>\n",
              "      <th>answer</th>\n",
              "      <th>type</th>\n",
              "      <th>queue</th>\n",
              "      <th>priority</th>\n",
              "      <th>language</th>\n",
              "      <th>version</th>\n",
              "      <th>tag_1</th>\n",
              "      <th>tag_2</th>\n",
              "      <th>tag_3</th>\n",
              "      <th>tag_4</th>\n",
              "      <th>tag_5</th>\n",
              "      <th>tag_6</th>\n",
              "      <th>tag_7</th>\n",
              "      <th>tag_8</th>\n",
              "    </tr>\n",
              "  </thead>\n",
              "  <tbody>\n",
              "    <tr>\n",
              "      <th>99</th>\n",
              "      <td>Issue Report</td>\n",
              "      <td>Dear Customer Support Team,\\n\\nI am submitting...</td>\n",
              "      <td>Thank you for bringing the service issue to ou...</td>\n",
              "      <td>Incident</td>\n",
              "      <td>Technical Support</td>\n",
              "      <td>medium</td>\n",
              "      <td>en</td>\n",
              "      <td>51</td>\n",
              "      <td>Disruption</td>\n",
              "      <td>Outage</td>\n",
              "      <td>Performance</td>\n",
              "      <td>Cloud</td>\n",
              "      <td>SaaS</td>\n",
              "      <td>Service</td>\n",
              "      <td>Workflow</td>\n",
              "      <td>Tech Support</td>\n",
              "    </tr>\n",
              "    <tr>\n",
              "      <th>135</th>\n",
              "      <td>Problem with Printer Not Printing Files</td>\n",
              "      <td>Dear Support Team,\\n\\nI am reaching out to req...</td>\n",
              "      <td>Thank you for contacting us, &lt;name&gt;. To assist...</td>\n",
              "      <td>Problem</td>\n",
              "      <td>Customer Service</td>\n",
              "      <td>low</td>\n",
              "      <td>en</td>\n",
              "      <td>51</td>\n",
              "      <td>Printer</td>\n",
              "      <td>Hardware</td>\n",
              "      <td>Issue</td>\n",
              "      <td>Support</td>\n",
              "      <td>Printer</td>\n",
              "      <td>Document</td>\n",
              "      <td>Connection</td>\n",
              "      <td>Ink</td>\n",
              "    </tr>\n",
              "    <tr>\n",
              "      <th>175</th>\n",
              "      <td>Dringliche Mitteilung: Umfangreiche Serviceunt...</td>\n",
              "      <td>Sehr geehrtes Support-Team,\\n\\nich möchte eine...</td>\n",
              "      <td>Vielen Dank für die dringende Mitteilung. Um r...</td>\n",
              "      <td>Incident</td>\n",
              "      <td>Technical Support</td>\n",
              "      <td>high</td>\n",
              "      <td>de</td>\n",
              "      <td>51</td>\n",
              "      <td>Outage</td>\n",
              "      <td>Disruption</td>\n",
              "      <td>Hardware</td>\n",
              "      <td>Software</td>\n",
              "      <td>Service</td>\n",
              "      <td>System</td>\n",
              "      <td>Recovery</td>\n",
              "      <td>Maintenance</td>\n",
              "    </tr>\n",
              "    <tr>\n",
              "      <th>195</th>\n",
              "      <td>Ausfall der Cloud-basierten Plattform</td>\n",
              "      <td>Sehr geehrtes Support-Team,\\n\\nich möchte eine...</td>\n",
              "      <td>Vielen Dank, dass Sie uns wegen des jüngsten A...</td>\n",
              "      <td>Problem</td>\n",
              "      <td>Technical Support</td>\n",
              "      <td>high</td>\n",
              "      <td>de</td>\n",
              "      <td>51</td>\n",
              "      <td>Outage</td>\n",
              "      <td>Disruption</td>\n",
              "      <td>Performance</td>\n",
              "      <td>Service</td>\n",
              "      <td>Cloud</td>\n",
              "      <td>Stability</td>\n",
              "      <td>Availability</td>\n",
              "      <td>Tech Support</td>\n",
              "    </tr>\n",
              "    <tr>\n",
              "      <th>209</th>\n",
              "      <td>Analytics System Outage</td>\n",
              "      <td>Sehr geehrter Kundendienst,\\n\\nWir erfahren mo...</td>\n",
              "      <td>&lt;name&gt;,\\n\\nvielen Dank, dass Sie das Problem m...</td>\n",
              "      <td>Incident</td>\n",
              "      <td>Technical Support</td>\n",
              "      <td>high</td>\n",
              "      <td>de</td>\n",
              "      <td>51</td>\n",
              "      <td>Outage</td>\n",
              "      <td>Disruption</td>\n",
              "      <td>Network</td>\n",
              "      <td>Performance</td>\n",
              "      <td>Server</td>\n",
              "      <td>Data Pipeline</td>\n",
              "      <td>Real-time Analytics</td>\n",
              "      <td>IT</td>\n",
              "    </tr>\n",
              "  </tbody>\n",
              "</table>\n",
              "</div>\n",
              "    <div class=\"colab-df-buttons\">\n",
              "\n",
              "  <div class=\"colab-df-container\">\n",
              "    <button class=\"colab-df-convert\" onclick=\"convertToInteractive('df-f746aa11-32f0-4d25-8771-e1d27af52b32')\"\n",
              "            title=\"Convert this dataframe to an interactive table.\"\n",
              "            style=\"display:none;\">\n",
              "\n",
              "  <svg xmlns=\"http://www.w3.org/2000/svg\" height=\"24px\" viewBox=\"0 -960 960 960\">\n",
              "    <path d=\"M120-120v-720h720v720H120Zm60-500h600v-160H180v160Zm220 220h160v-160H400v160Zm0 220h160v-160H400v160ZM180-400h160v-160H180v160Zm440 0h160v-160H620v160ZM180-180h160v-160H180v160Zm440 0h160v-160H620v160Z\"/>\n",
              "  </svg>\n",
              "    </button>\n",
              "\n",
              "  <style>\n",
              "    .colab-df-container {\n",
              "      display:flex;\n",
              "      gap: 12px;\n",
              "    }\n",
              "\n",
              "    .colab-df-convert {\n",
              "      background-color: #E8F0FE;\n",
              "      border: none;\n",
              "      border-radius: 50%;\n",
              "      cursor: pointer;\n",
              "      display: none;\n",
              "      fill: #1967D2;\n",
              "      height: 32px;\n",
              "      padding: 0 0 0 0;\n",
              "      width: 32px;\n",
              "    }\n",
              "\n",
              "    .colab-df-convert:hover {\n",
              "      background-color: #E2EBFA;\n",
              "      box-shadow: 0px 1px 2px rgba(60, 64, 67, 0.3), 0px 1px 3px 1px rgba(60, 64, 67, 0.15);\n",
              "      fill: #174EA6;\n",
              "    }\n",
              "\n",
              "    .colab-df-buttons div {\n",
              "      margin-bottom: 4px;\n",
              "    }\n",
              "\n",
              "    [theme=dark] .colab-df-convert {\n",
              "      background-color: #3B4455;\n",
              "      fill: #D2E3FC;\n",
              "    }\n",
              "\n",
              "    [theme=dark] .colab-df-convert:hover {\n",
              "      background-color: #434B5C;\n",
              "      box-shadow: 0px 1px 3px 1px rgba(0, 0, 0, 0.15);\n",
              "      filter: drop-shadow(0px 1px 2px rgba(0, 0, 0, 0.3));\n",
              "      fill: #FFFFFF;\n",
              "    }\n",
              "  </style>\n",
              "\n",
              "    <script>\n",
              "      const buttonEl =\n",
              "        document.querySelector('#df-f746aa11-32f0-4d25-8771-e1d27af52b32 button.colab-df-convert');\n",
              "      buttonEl.style.display =\n",
              "        google.colab.kernel.accessAllowed ? 'block' : 'none';\n",
              "\n",
              "      async function convertToInteractive(key) {\n",
              "        const element = document.querySelector('#df-f746aa11-32f0-4d25-8771-e1d27af52b32');\n",
              "        const dataTable =\n",
              "          await google.colab.kernel.invokeFunction('convertToInteractive',\n",
              "                                                    [key], {});\n",
              "        if (!dataTable) return;\n",
              "\n",
              "        const docLinkHtml = 'Like what you see? Visit the ' +\n",
              "          '<a target=\"_blank\" href=https://colab.research.google.com/notebooks/data_table.ipynb>data table notebook</a>'\n",
              "          + ' to learn more about interactive tables.';\n",
              "        element.innerHTML = '';\n",
              "        dataTable['output_type'] = 'display_data';\n",
              "        await google.colab.output.renderOutput(dataTable, element);\n",
              "        const docLink = document.createElement('div');\n",
              "        docLink.innerHTML = docLinkHtml;\n",
              "        element.appendChild(docLink);\n",
              "      }\n",
              "    </script>\n",
              "  </div>\n",
              "\n",
              "\n",
              "    <div id=\"df-30b058c0-c2ea-4582-95ed-b5c635e6c9f5\">\n",
              "      <button class=\"colab-df-quickchart\" onclick=\"quickchart('df-30b058c0-c2ea-4582-95ed-b5c635e6c9f5')\"\n",
              "                title=\"Suggest charts\"\n",
              "                style=\"display:none;\">\n",
              "\n",
              "<svg xmlns=\"http://www.w3.org/2000/svg\" height=\"24px\"viewBox=\"0 0 24 24\"\n",
              "     width=\"24px\">\n",
              "    <g>\n",
              "        <path d=\"M19 3H5c-1.1 0-2 .9-2 2v14c0 1.1.9 2 2 2h14c1.1 0 2-.9 2-2V5c0-1.1-.9-2-2-2zM9 17H7v-7h2v7zm4 0h-2V7h2v10zm4 0h-2v-4h2v4z\"/>\n",
              "    </g>\n",
              "</svg>\n",
              "      </button>\n",
              "\n",
              "<style>\n",
              "  .colab-df-quickchart {\n",
              "      --bg-color: #E8F0FE;\n",
              "      --fill-color: #1967D2;\n",
              "      --hover-bg-color: #E2EBFA;\n",
              "      --hover-fill-color: #174EA6;\n",
              "      --disabled-fill-color: #AAA;\n",
              "      --disabled-bg-color: #DDD;\n",
              "  }\n",
              "\n",
              "  [theme=dark] .colab-df-quickchart {\n",
              "      --bg-color: #3B4455;\n",
              "      --fill-color: #D2E3FC;\n",
              "      --hover-bg-color: #434B5C;\n",
              "      --hover-fill-color: #FFFFFF;\n",
              "      --disabled-bg-color: #3B4455;\n",
              "      --disabled-fill-color: #666;\n",
              "  }\n",
              "\n",
              "  .colab-df-quickchart {\n",
              "    background-color: var(--bg-color);\n",
              "    border: none;\n",
              "    border-radius: 50%;\n",
              "    cursor: pointer;\n",
              "    display: none;\n",
              "    fill: var(--fill-color);\n",
              "    height: 32px;\n",
              "    padding: 0;\n",
              "    width: 32px;\n",
              "  }\n",
              "\n",
              "  .colab-df-quickchart:hover {\n",
              "    background-color: var(--hover-bg-color);\n",
              "    box-shadow: 0 1px 2px rgba(60, 64, 67, 0.3), 0 1px 3px 1px rgba(60, 64, 67, 0.15);\n",
              "    fill: var(--button-hover-fill-color);\n",
              "  }\n",
              "\n",
              "  .colab-df-quickchart-complete:disabled,\n",
              "  .colab-df-quickchart-complete:disabled:hover {\n",
              "    background-color: var(--disabled-bg-color);\n",
              "    fill: var(--disabled-fill-color);\n",
              "    box-shadow: none;\n",
              "  }\n",
              "\n",
              "  .colab-df-spinner {\n",
              "    border: 2px solid var(--fill-color);\n",
              "    border-color: transparent;\n",
              "    border-bottom-color: var(--fill-color);\n",
              "    animation:\n",
              "      spin 1s steps(1) infinite;\n",
              "  }\n",
              "\n",
              "  @keyframes spin {\n",
              "    0% {\n",
              "      border-color: transparent;\n",
              "      border-bottom-color: var(--fill-color);\n",
              "      border-left-color: var(--fill-color);\n",
              "    }\n",
              "    20% {\n",
              "      border-color: transparent;\n",
              "      border-left-color: var(--fill-color);\n",
              "      border-top-color: var(--fill-color);\n",
              "    }\n",
              "    30% {\n",
              "      border-color: transparent;\n",
              "      border-left-color: var(--fill-color);\n",
              "      border-top-color: var(--fill-color);\n",
              "      border-right-color: var(--fill-color);\n",
              "    }\n",
              "    40% {\n",
              "      border-color: transparent;\n",
              "      border-right-color: var(--fill-color);\n",
              "      border-top-color: var(--fill-color);\n",
              "    }\n",
              "    60% {\n",
              "      border-color: transparent;\n",
              "      border-right-color: var(--fill-color);\n",
              "    }\n",
              "    80% {\n",
              "      border-color: transparent;\n",
              "      border-right-color: var(--fill-color);\n",
              "      border-bottom-color: var(--fill-color);\n",
              "    }\n",
              "    90% {\n",
              "      border-color: transparent;\n",
              "      border-bottom-color: var(--fill-color);\n",
              "    }\n",
              "  }\n",
              "</style>\n",
              "\n",
              "      <script>\n",
              "        async function quickchart(key) {\n",
              "          const quickchartButtonEl =\n",
              "            document.querySelector('#' + key + ' button');\n",
              "          quickchartButtonEl.disabled = true;  // To prevent multiple clicks.\n",
              "          quickchartButtonEl.classList.add('colab-df-spinner');\n",
              "          try {\n",
              "            const charts = await google.colab.kernel.invokeFunction(\n",
              "                'suggestCharts', [key], {});\n",
              "          } catch (error) {\n",
              "            console.error('Error during call to suggestCharts:', error);\n",
              "          }\n",
              "          quickchartButtonEl.classList.remove('colab-df-spinner');\n",
              "          quickchartButtonEl.classList.add('colab-df-quickchart-complete');\n",
              "        }\n",
              "        (() => {\n",
              "          let quickchartButtonEl =\n",
              "            document.querySelector('#df-30b058c0-c2ea-4582-95ed-b5c635e6c9f5 button');\n",
              "          quickchartButtonEl.style.display =\n",
              "            google.colab.kernel.accessAllowed ? 'block' : 'none';\n",
              "        })();\n",
              "      </script>\n",
              "    </div>\n",
              "    </div>\n",
              "  </div>\n"
            ],
            "application/vnd.google.colaboratory.intrinsic+json": {
              "type": "dataframe",
              "variable_name": "df_main",
              "summary": "{\n  \"name\": \"df_main\",\n  \"rows\": 410,\n  \"fields\": [\n    {\n      \"column\": \"subject\",\n      \"properties\": {\n        \"dtype\": \"string\",\n        \"num_unique_values\": 410,\n        \"samples\": [\n          \"Support Required for Platform Crash\",\n          \"Marketing Agency's Digital Strategy Fell Short in Enhancing Growth\",\n          \"Request for Support with Investment Optimization Analytics\"\n        ],\n        \"semantic_type\": \"\",\n        \"description\": \"\"\n      }\n    },\n    {\n      \"column\": \"body\",\n      \"properties\": {\n        \"dtype\": \"string\",\n        \"num_unique_values\": 410,\n        \"samples\": [\n          \"Dear Customer Support, I am reporting an issue with the investment optimization platform. During peak hours, the platform crashes, likely due to data overload from multiple integrated products. I have attempted troubleshooting steps such as rebooting the system, clearing caches, and updating the software, but the problem persists. Despite these efforts, the platform remains unstable and cannot handle the high volume of data. I would greatly appreciate your assistance in resolving this issue as soon as possible, as it is affecting operations. Could you please help?\",\n          \"The digital strategy failed to enhance brand growth. Potential reasons could be ineffective targeting or campaign misalignment. After reviewing analytics, adjusting content focus, and increasing ad spend, some improvement was observed.\",\n          \"Dear Customer Support, I am reaching out to request comprehensive documentation on investment optimization analytics tools. I am interested in learning how to effectively use these tools to enhance my investment strategies. Could you kindly provide available resources such as user manuals, tutorials, and case studies? I would appreciate any guidance on how to best utilize these tools to optimize my investment portfolio. Thank you for your assistance. I look forward to your prompt response.\"\n        ],\n        \"semantic_type\": \"\",\n        \"description\": \"\"\n      }\n    },\n    {\n      \"column\": \"answer\",\n      \"properties\": {\n        \"dtype\": \"string\",\n        \"num_unique_values\": 410,\n        \"samples\": [\n          \"<name>, thank you for contacting us regarding the issue with the investment optimization platform. We apologize for the impact on your operations. We would like to assist you in resolving this matter promptly. Please provide details of any error messages you have received, the exact steps you have taken so far, the platform version, and the amount of data processed during peak hours. This information will help us review the situation and offer appropriate guidance. If needed, we can schedule a call at a convenient time to discuss further.\",\n          \"Would like to discuss this further. Please provide details on the current campaign analytics to help identify the root cause of the issue.\",\n          \"<name>, thank you for contacting the support team regarding investment optimization analytics tools. We can provide user manuals and tutorials to help you utilize the tools effectively. For personalized guidance, I would like to schedule a call at <tel_num> to discuss your specific needs and share relevant case studies related to investment strategies. Please let me know a convenient time for the call to assist in optimizing your investment portfolio.\"\n        ],\n        \"semantic_type\": \"\",\n        \"description\": \"\"\n      }\n    },\n    {\n      \"column\": \"type\",\n      \"properties\": {\n        \"dtype\": \"category\",\n        \"num_unique_values\": 4,\n        \"samples\": [\n          \"Problem\",\n          \"Change\",\n          \"Incident\"\n        ],\n        \"semantic_type\": \"\",\n        \"description\": \"\"\n      }\n    },\n    {\n      \"column\": \"queue\",\n      \"properties\": {\n        \"dtype\": \"category\",\n        \"num_unique_values\": 10,\n        \"samples\": [\n          \"Human Resources\",\n          \"Customer Service\",\n          \"Returns and Exchanges\"\n        ],\n        \"semantic_type\": \"\",\n        \"description\": \"\"\n      }\n    },\n    {\n      \"column\": \"priority\",\n      \"properties\": {\n        \"dtype\": \"category\",\n        \"num_unique_values\": 3,\n        \"samples\": [\n          \"medium\",\n          \"low\",\n          \"high\"\n        ],\n        \"semantic_type\": \"\",\n        \"description\": \"\"\n      }\n    },\n    {\n      \"column\": \"language\",\n      \"properties\": {\n        \"dtype\": \"category\",\n        \"num_unique_values\": 2,\n        \"samples\": [\n          \"de\",\n          \"en\"\n        ],\n        \"semantic_type\": \"\",\n        \"description\": \"\"\n      }\n    },\n    {\n      \"column\": \"version\",\n      \"properties\": {\n        \"dtype\": \"number\",\n        \"std\": 87,\n        \"min\": 51,\n        \"max\": 400,\n        \"num_unique_values\": 3,\n        \"samples\": [\n          51,\n          52\n        ],\n        \"semantic_type\": \"\",\n        \"description\": \"\"\n      }\n    },\n    {\n      \"column\": \"tag_1\",\n      \"properties\": {\n        \"dtype\": \"category\",\n        \"num_unique_values\": 36,\n        \"samples\": [\n          \"Account\",\n          \"Performance\"\n        ],\n        \"semantic_type\": \"\",\n        \"description\": \"\"\n      }\n    },\n    {\n      \"column\": \"tag_2\",\n      \"properties\": {\n        \"dtype\": \"category\",\n        \"num_unique_values\": 75,\n        \"samples\": [\n          \"Performance\",\n          \"Data Backup\"\n        ],\n        \"semantic_type\": \"\",\n        \"description\": \"\"\n      }\n    },\n    {\n      \"column\": \"tag_3\",\n      \"properties\": {\n        \"dtype\": \"category\",\n        \"num_unique_values\": 98,\n        \"samples\": [\n          \"Growth\",\n          \"Brand Expansion\"\n        ],\n        \"semantic_type\": \"\",\n        \"description\": \"\"\n      }\n    },\n    {\n      \"column\": \"tag_4\",\n      \"properties\": {\n        \"dtype\": \"category\",\n        \"num_unique_values\": 139,\n        \"samples\": [\n          \"Product\",\n          \"Health Data\"\n        ],\n        \"semantic_type\": \"\",\n        \"description\": \"\"\n      }\n    },\n    {\n      \"column\": \"tag_5\",\n      \"properties\": {\n        \"dtype\": \"category\",\n        \"num_unique_values\": 159,\n        \"samples\": [\n          \"Data Processing\",\n          \"IT\"\n        ],\n        \"semantic_type\": \"\",\n        \"description\": \"\"\n      }\n    },\n    {\n      \"column\": \"tag_6\",\n      \"properties\": {\n        \"dtype\": \"category\",\n        \"num_unique_values\": 180,\n        \"samples\": [\n          \"Engagement\",\n          \"Availability\"\n        ],\n        \"semantic_type\": \"\",\n        \"description\": \"\"\n      }\n    },\n    {\n      \"column\": \"tag_7\",\n      \"properties\": {\n        \"dtype\": \"category\",\n        \"num_unique_values\": 170,\n        \"samples\": [\n          \"Patch\",\n          \"Healthcare\"\n        ],\n        \"semantic_type\": \"\",\n        \"description\": \"\"\n      }\n    },\n    {\n      \"column\": \"tag_8\",\n      \"properties\": {\n        \"dtype\": \"category\",\n        \"num_unique_values\": 182,\n        \"samples\": [\n          \"Protection\",\n          \"Protocol\"\n        ],\n        \"semantic_type\": \"\",\n        \"description\": \"\"\n      }\n    }\n  ]\n}"
            }
          },
          "metadata": {},
          "execution_count": 7
        }
      ]
    },
    {
      "cell_type": "markdown",
      "source": [
        "Целевым признаком будет `type`. Также необходимо обработать датасет перед дальнейшим использованием, убрав дубликаты, нулевые значения и ненужные признаки. Выполним фильтр данных, где в обучении модели будут участвовать только записи на английском языке:"
      ],
      "metadata": {
        "id": "FALjzSj7V9Gn"
      }
    },
    {
      "cell_type": "code",
      "source": [
        "df_main = df_main.drop_duplicates().dropna() #очистка данных\n",
        "df_main.rename(columns={\"type\": \"ticket_type\"}, inplace=True)\n",
        "df_main = df_main[df_main['language'] == 'en']"
      ],
      "metadata": {
        "id": "lkyvJcsRWN8a"
      },
      "execution_count": null,
      "outputs": []
    },
    {
      "cell_type": "markdown",
      "source": [
        "Создадим выборки в следующих пропорциях:\n",
        "* **обучающая** - 70%\n",
        "* **проверочная** - 15%\n",
        "* **тестовая** - 15%\n",
        "\n",
        "`(X_tmp, y_tmp)` - это временная выборка, которую мы делим пополам на проверочную и тестовую."
      ],
      "metadata": {
        "id": "-CIZ1kMhZcPU"
      }
    },
    {
      "cell_type": "code",
      "source": [
        "X_train, X_tmp, y_train, y_tmp = train_test_split(\n",
        "    np.array(df_main.body),\n",
        "    np.array(df_main.ticket_type),\n",
        "    test_size=0.3,\n",
        "    stratify=df_main.ticket_type, #стратификация для сохранения баланса\n",
        ")\n",
        "\n",
        "X_val, X_test, y_val, y_test = train_test_split(\n",
        "    X_tmp, y_tmp,\n",
        "    test_size=0.5,\n",
        "    stratify=y_tmp\n",
        ")"
      ],
      "metadata": {
        "id": "7dBZvwgfZdJH"
      },
      "execution_count": null,
      "outputs": []
    },
    {
      "cell_type": "markdown",
      "source": [
        "Вычисляем веса классов для балансировки классов.\n",
        "\n",
        "`compute_class_weight` вычисляет веса классов так, чтобы компенсировать дисбаланс в данных"
      ],
      "metadata": {
        "id": "RnflPcznr_Ca"
      }
    },
    {
      "cell_type": "code",
      "source": [
        "#вычисление весов классов для балансировки\n",
        "class_weights = compute_class_weight(\n",
        "    'balanced',\n",
        "    classes=np.unique(y_train),\n",
        "    y=y_train\n",
        ")\n",
        "class_weights = dict(enumerate(class_weights)) #преобразует массив весов в словарь, где ключи - индексы классов\n",
        "print(\"Веса классов:\", class_weights)"
      ],
      "metadata": {
        "colab": {
          "base_uri": "https://localhost:8080/"
        },
        "id": "EPgkmqOj8g8s",
        "outputId": "10fa565c-ad9a-47a9-daef-2a50068dbd34"
      },
      "execution_count": null,
      "outputs": [
        {
          "output_type": "stream",
          "name": "stdout",
          "text": [
            "Веса классов: {0: 3.025, 1: 0.5707547169811321, 2: 1.5921052631578947, 3: 0.7756410256410257}\n"
          ]
        }
      ]
    },
    {
      "cell_type": "markdown",
      "source": [
        "Посмотрим на форму обучающей выборки и пример первого заголовка в выборке:"
      ],
      "metadata": {
        "id": "yKtIZLWeZgUF"
      }
    },
    {
      "cell_type": "code",
      "source": [
        "print('Форма входных данных: ', X_train.shape)\n",
        "print('Форма выходных меток: ', y_train.shape)\n",
        "print('Пример заголовка: ', X_train[0])"
      ],
      "metadata": {
        "id": "ScziTQnTZhRv",
        "colab": {
          "base_uri": "https://localhost:8080/"
        },
        "outputId": "cb8a0006-667a-4314-c615-329f33177227"
      },
      "execution_count": null,
      "outputs": [
        {
          "output_type": "stream",
          "name": "stdout",
          "text": [
            "Форма входных данных:  (121,)\n",
            "Форма выходных меток:  (121,)\n",
            "Пример заголовка:  Dear Customer Support, I am reaching out to ask about best practices for safeguarding medical data using Ansible within hospital infrastructure. Could you please provide guidance on how to ensure the confidentiality, integrity, and availability of sensitive patient information? I would also appreciate any recommendations or resources you could share on this topic. Thank you for your time and assistance.\n"
          ]
        }
      ]
    },
    {
      "cell_type": "markdown",
      "source": [
        "Для экономии ОЗУ удаляем уже ненужные данные, после чего python запускает сборщик \"мусора\" для очистки памяти:"
      ],
      "metadata": {
        "id": "6bU8S52EZnZJ"
      }
    },
    {
      "cell_type": "code",
      "source": [
        "del df_main, X_tmp, y_tmp"
      ],
      "metadata": {
        "id": "plLuCcgQZmJ-"
      },
      "execution_count": null,
      "outputs": []
    },
    {
      "cell_type": "markdown",
      "source": [
        "Далее необходимо создать одну из возможных моделей AutoKeras. Так как у нас задача классификации текстов, то мы создаем модель TextClassificator."
      ],
      "metadata": {
        "id": "6MNoGgCnZt7p"
      }
    },
    {
      "cell_type": "code",
      "source": [
        "clf = ak.TextClassifier(\n",
        "    overwrite=True,\n",
        "    max_trials=2,\n",
        "    objective='val_accuracy',\n",
        "    seed=42,\n",
        ")\n",
        "result_training = clf.fit(\n",
        "    X_train, y_train,\n",
        "    epochs=30,\n",
        "    validation_data=(X_val, y_val),\n",
        "    class_weight=class_weights,\n",
        ")"
      ],
      "metadata": {
        "id": "QWDliVL0Zv0S",
        "colab": {
          "base_uri": "https://localhost:8080/"
        },
        "outputId": "fd5e4473-5ee2-4953-beec-117eca89d2f7"
      },
      "execution_count": null,
      "outputs": [
        {
          "output_type": "stream",
          "name": "stdout",
          "text": [
            "Trial 2 Complete [00h 00m 14s]\n",
            "val_accuracy: 0.7692307829856873\n",
            "\n",
            "Best val_accuracy So Far: 0.8461538553237915\n",
            "Total elapsed time: 00h 01m 00s\n",
            "Epoch 1/30\n",
            "4/4 [==============================] - 2s 268ms/step - loss: 1.3963 - accuracy: 0.2314 - val_loss: 1.3589 - val_accuracy: 0.3462\n",
            "Epoch 2/30\n",
            "4/4 [==============================] - 1s 197ms/step - loss: 1.3756 - accuracy: 0.4132 - val_loss: 1.3614 - val_accuracy: 0.3846\n",
            "Epoch 3/30\n",
            "4/4 [==============================] - 1s 211ms/step - loss: 1.3526 - accuracy: 0.4793 - val_loss: 1.3627 - val_accuracy: 0.6154\n",
            "Epoch 4/30\n",
            "4/4 [==============================] - 1s 209ms/step - loss: 1.3655 - accuracy: 0.4298 - val_loss: 1.3596 - val_accuracy: 0.5769\n",
            "Epoch 5/30\n",
            "4/4 [==============================] - 1s 203ms/step - loss: 1.3449 - accuracy: 0.4711 - val_loss: 1.3546 - val_accuracy: 0.5385\n",
            "Epoch 6/30\n",
            "4/4 [==============================] - 1s 195ms/step - loss: 1.3293 - accuracy: 0.5041 - val_loss: 1.3451 - val_accuracy: 0.5385\n",
            "Epoch 7/30\n",
            "4/4 [==============================] - 1s 202ms/step - loss: 1.3166 - accuracy: 0.5372 - val_loss: 1.3309 - val_accuracy: 0.5769\n",
            "Epoch 8/30\n",
            "4/4 [==============================] - 1s 202ms/step - loss: 1.2957 - accuracy: 0.5868 - val_loss: 1.3129 - val_accuracy: 0.6154\n",
            "Epoch 9/30\n",
            "4/4 [==============================] - 1s 275ms/step - loss: 1.2567 - accuracy: 0.6777 - val_loss: 1.2901 - val_accuracy: 0.7308\n",
            "Epoch 10/30\n",
            "4/4 [==============================] - 1s 339ms/step - loss: 1.1973 - accuracy: 0.8182 - val_loss: 1.2643 - val_accuracy: 0.7308\n",
            "Epoch 11/30\n",
            "4/4 [==============================] - 1s 195ms/step - loss: 1.1628 - accuracy: 0.7851 - val_loss: 1.2271 - val_accuracy: 0.7692\n",
            "Epoch 12/30\n",
            "4/4 [==============================] - 1s 205ms/step - loss: 1.0789 - accuracy: 0.8264 - val_loss: 1.1676 - val_accuracy: 0.6923\n",
            "Epoch 13/30\n",
            "4/4 [==============================] - 1s 207ms/step - loss: 1.0052 - accuracy: 0.8347 - val_loss: 1.0874 - val_accuracy: 0.6923\n",
            "Epoch 14/30\n",
            "4/4 [==============================] - 1s 200ms/step - loss: 0.9231 - accuracy: 0.8843 - val_loss: 0.9951 - val_accuracy: 0.7308\n",
            "Epoch 15/30\n",
            "4/4 [==============================] - 1s 205ms/step - loss: 0.8158 - accuracy: 0.8843 - val_loss: 0.9012 - val_accuracy: 0.7692\n",
            "Epoch 16/30\n",
            "4/4 [==============================] - 1s 201ms/step - loss: 0.6727 - accuracy: 0.9008 - val_loss: 0.8113 - val_accuracy: 0.7692\n",
            "Epoch 17/30\n",
            "4/4 [==============================] - 1s 204ms/step - loss: 0.5619 - accuracy: 0.9504 - val_loss: 0.7286 - val_accuracy: 0.7692\n",
            "Epoch 18/30\n",
            "4/4 [==============================] - 1s 200ms/step - loss: 0.4505 - accuracy: 0.9339 - val_loss: 0.6621 - val_accuracy: 0.7692\n",
            "Epoch 19/30\n",
            "4/4 [==============================] - 1s 198ms/step - loss: 0.3966 - accuracy: 0.9256 - val_loss: 0.6176 - val_accuracy: 0.7692\n",
            "Epoch 20/30\n",
            "4/4 [==============================] - 1s 343ms/step - loss: 0.3138 - accuracy: 0.9421 - val_loss: 0.5874 - val_accuracy: 0.7308\n",
            "Epoch 21/30\n",
            "4/4 [==============================] - 1s 204ms/step - loss: 0.2609 - accuracy: 0.9256 - val_loss: 0.5402 - val_accuracy: 0.7692\n",
            "Epoch 22/30\n",
            "4/4 [==============================] - 1s 202ms/step - loss: 0.2255 - accuracy: 0.9504 - val_loss: 0.4981 - val_accuracy: 0.7692\n",
            "Epoch 23/30\n",
            "4/4 [==============================] - 1s 204ms/step - loss: 0.1462 - accuracy: 0.9917 - val_loss: 0.4736 - val_accuracy: 0.7692\n",
            "Epoch 24/30\n",
            "4/4 [==============================] - 1s 201ms/step - loss: 0.1353 - accuracy: 0.9917 - val_loss: 0.4649 - val_accuracy: 0.7692\n",
            "Epoch 25/30\n",
            "4/4 [==============================] - 1s 204ms/step - loss: 0.1042 - accuracy: 0.9917 - val_loss: 0.4620 - val_accuracy: 0.7692\n",
            "Epoch 26/30\n",
            "4/4 [==============================] - 1s 198ms/step - loss: 0.0958 - accuracy: 0.9835 - val_loss: 0.4595 - val_accuracy: 0.7692\n",
            "Epoch 27/30\n",
            "4/4 [==============================] - 1s 201ms/step - loss: 0.0633 - accuracy: 1.0000 - val_loss: 0.4632 - val_accuracy: 0.7692\n",
            "Epoch 28/30\n",
            "4/4 [==============================] - 1s 196ms/step - loss: 0.0458 - accuracy: 1.0000 - val_loss: 0.4639 - val_accuracy: 0.7692\n",
            "Epoch 29/30\n",
            "4/4 [==============================] - 1s 208ms/step - loss: 0.0386 - accuracy: 1.0000 - val_loss: 0.4685 - val_accuracy: 0.7692\n",
            "Epoch 30/30\n",
            "4/4 [==============================] - 1s 201ms/step - loss: 0.0269 - accuracy: 1.0000 - val_loss: 0.4762 - val_accuracy: 0.7692\n"
          ]
        }
      ]
    },
    {
      "cell_type": "markdown",
      "source": [
        "Последовательно экспортируем лучшую модель и по ней выводим отчет:"
      ],
      "metadata": {
        "id": "9fPSp3DOzLt8"
      }
    },
    {
      "cell_type": "code",
      "source": [
        "clf.export_model().summary()"
      ],
      "metadata": {
        "id": "Z7sap6gwu8fZ",
        "colab": {
          "base_uri": "https://localhost:8080/"
        },
        "outputId": "a1abdcd0-90da-454a-ce39-193940698d98"
      },
      "execution_count": null,
      "outputs": [
        {
          "output_type": "stream",
          "name": "stdout",
          "text": [
            "Model: \"model\"\n",
            "_________________________________________________________________\n",
            " Layer (type)                Output Shape              Param #   \n",
            "=================================================================\n",
            " input_1 (InputLayer)        [(None,)]                 0         \n",
            "                                                                 \n",
            " expand_last_dim (ExpandLas  (None, 1)                 0         \n",
            " tDim)                                                           \n",
            "                                                                 \n",
            " text_vectorization (TextVe  (None, 512)               0         \n",
            " ctorization)                                                    \n",
            "                                                                 \n",
            " embedding (Embedding)       (None, 512, 64)           320064    \n",
            "                                                                 \n",
            " dropout (Dropout)           (None, 512, 64)           0         \n",
            "                                                                 \n",
            " conv1d (Conv1D)             (None, 508, 256)          82176     \n",
            "                                                                 \n",
            " global_max_pooling1d (Glob  (None, 256)               0         \n",
            " alMaxPooling1D)                                                 \n",
            "                                                                 \n",
            " dense (Dense)               (None, 256)               65792     \n",
            "                                                                 \n",
            " re_lu (ReLU)                (None, 256)               0         \n",
            "                                                                 \n",
            " dropout_1 (Dropout)         (None, 256)               0         \n",
            "                                                                 \n",
            " dense_1 (Dense)             (None, 4)                 1028      \n",
            "                                                                 \n",
            " classification_head_1 (Sof  (None, 4)                 0         \n",
            " tmax)                                                           \n",
            "                                                                 \n",
            "=================================================================\n",
            "Total params: 469060 (1.79 MB)\n",
            "Trainable params: 469060 (1.79 MB)\n",
            "Non-trainable params: 0 (0.00 Byte)\n",
            "_________________________________________________________________\n"
          ]
        }
      ]
    },
    {
      "cell_type": "markdown",
      "source": [
        "На основе лучшей модели выполним предсказание:"
      ],
      "metadata": {
        "id": "MgBMm1O3zLPq"
      }
    },
    {
      "cell_type": "code",
      "source": [
        "#предсказание и оценка\n",
        "predicted_y = clf.predict(X_test)\n",
        "test_results = clf.evaluate(X_test, y_test)\n",
        "print(\"Точность на тестовых данных:\", test_results[1])"
      ],
      "metadata": {
        "id": "B5M-QPrvu_Ne",
        "colab": {
          "base_uri": "https://localhost:8080/"
        },
        "outputId": "66e9ab05-010a-44ef-8413-dafb6be1fa99"
      },
      "execution_count": null,
      "outputs": [
        {
          "output_type": "stream",
          "name": "stdout",
          "text": [
            "1/1 [==============================] - 0s 178ms/step\n",
            "1/1 [==============================] - 0s 66ms/step\n",
            "1/1 [==============================] - 0s 279ms/step - loss: 0.3124 - accuracy: 0.8889\n",
            "Точность на тестовых данных: 0.8888888955116272\n"
          ]
        }
      ]
    },
    {
      "cell_type": "markdown",
      "source": [
        "Создадим функцию по созданию 2-ух графиков, а именно: Обучающая и проверочная выборка для *accurary* и для *loss*."
      ],
      "metadata": {
        "id": "EHbEh2ALzK3b"
      }
    },
    {
      "cell_type": "code",
      "source": [
        "def plot_graphs(history, key):\n",
        "    sns.set_style('darkgrid')\n",
        "    palette = sns.color_palette('Set1')\n",
        "    plt.figure(figsize=(12,6))\n",
        "    #отображаем график выбранного параметра\n",
        "    plt.plot(history.history[key],   #данные для построения графика\n",
        "             marker='o',             #использовать маркер для точек на графике\n",
        "             color=palette[2],       #использовать цвет третий в палитре (нумерация с 0)\n",
        "             linewidth=2.5,          #ширина линии\n",
        "             label=key)              #подпись легенды\n",
        "\n",
        "    #график для проверочной выборки\n",
        "    if 'val_'+key in history.history:\n",
        "        plt.plot(history.history['val_'+key], #данные для построения графика\n",
        "                 marker='o',                  #использовать маркер для точек на графике\n",
        "                 color=palette[4],            #использовать цвет пятый в палитре\n",
        "                 linewidth=2.5,               #ширина линии\n",
        "                 label='val_'+key)            #подпись легенды\n",
        "\n",
        "    plt.xlabel(\"Эпоха\", fontsize=12) #подпись оси Х, размер шрифта - 12\n",
        "    plt.ylabel(key, fontsize=12) #подпись оси Y, размер шрифта - 12\n",
        "    plt.title('Обучающая и проверочная выборки ('+key.title()+')', fontsize=14) #подпись заголовка графика, размер шрифта - 14\n",
        "    plt.legend(fontsize=12) #отображение легенды, размер шрифта - 12\n",
        "    plt.grid(True) #задаем сетку на графике\n",
        "    plt.show() #отрисовываем полотно со всеми графиками"
      ],
      "metadata": {
        "id": "dxzmWbEhvHzL"
      },
      "execution_count": null,
      "outputs": []
    },
    {
      "cell_type": "markdown",
      "source": [
        "Создадим графики через созданную функцию на предыдущем шаге:"
      ],
      "metadata": {
        "id": "YwNI0mSlzAJ9"
      }
    },
    {
      "cell_type": "code",
      "source": [
        "plot_graphs(result_training, \"accuracy\")\n",
        "plot_graphs(result_training, \"loss\")"
      ],
      "metadata": {
        "id": "HlpeCPTmvJ3r",
        "colab": {
          "base_uri": "https://localhost:8080/",
          "height": 1000
        },
        "outputId": "04dd4d94-755b-4d48-b231-6120bb683341"
      },
      "execution_count": null,
      "outputs": [
        {
          "output_type": "display_data",
          "data": {
            "text/plain": [
              "<Figure size 1200x600 with 1 Axes>"
            ],
            "image/png": "[encoded data removed]"
          },
          "metadata": {}
        },
        {
          "output_type": "display_data",
          "data": {
            "text/plain": [
              "<Figure size 1200x600 with 1 Axes>"
            ],
            "image/png": "[encoded data removed]"
          },
          "metadata": {}
        }
      ]
    },
    {
      "cell_type": "markdown",
      "source": [
        "Создадим отчет по классификации:"
      ],
      "metadata": {
        "id": "C4j5ShjWqNJ1"
      }
    },
    {
      "cell_type": "code",
      "source": [
        "print(classification_report(y_test, predicted_y))"
      ],
      "metadata": {
        "id": "Kh1w80DmvNIk",
        "colab": {
          "base_uri": "https://localhost:8080/"
        },
        "outputId": "b139ee7d-8284-4d8c-fe67-562d08720c31"
      },
      "execution_count": null,
      "outputs": [
        {
          "output_type": "stream",
          "name": "stdout",
          "text": [
            "              precision    recall  f1-score   support\n",
            "\n",
            "      Change       1.00      1.00      1.00         2\n",
            "    Incident       0.85      0.92      0.88        12\n",
            "     Problem       0.67      0.50      0.57         4\n",
            "     Request       1.00      1.00      1.00         9\n",
            "\n",
            "    accuracy                           0.89        27\n",
            "   macro avg       0.88      0.85      0.86        27\n",
            "weighted avg       0.88      0.89      0.88        27\n",
            "\n"
          ]
        }
      ]
    },
    {
      "cell_type": "markdown",
      "source": [
        "Создадим примеры для каждого значения целевого признака и выполним предсказания по ним:"
      ],
      "metadata": {
        "id": "b7QrGLfTy0ef"
      }
    },
    {
      "cell_type": "code",
      "source": [
        "#примеры для предсказания\n",
        "examples = {\n",
        "    \"Incident\": \"The system is down since 10 AM. Users cannot log in.\",\n",
        "    \"Request\": \"How can I reset my password? I forgot it yesterday.\",\n",
        "    \"Problem\": \"Users experience frequent crashes due to memory leak in version 2.1.\",\n",
        "    \"Change\": \"We need to schedule a maintenance window next week to upgrade the database server.\"\n",
        "}\n",
        "\n",
        "for label, text in examples.items(): #классификация каждого примера церез цикл\n",
        "    result = clf.predict(np.array([text])) #предсказание модели\n",
        "    predicted_class = result[0][0].decode('utf-8') if isinstance(result[0][0], bytes) else result[0][0] #обработка результата\n",
        "    print(f\"Ожидаемый тип: {label}\")\n",
        "    print(f\"Предсказанный тип: {predicted_class}\")\n",
        "    print(f\"Результат совпадает? {'Да' if predicted_class == label else 'Нет'}\")"
      ],
      "metadata": {
        "id": "TbFSIkCW6eCV",
        "colab": {
          "base_uri": "https://localhost:8080/"
        },
        "outputId": "956a37f1-548b-4b76-e1bd-c210941721e2"
      },
      "execution_count": null,
      "outputs": [
        {
          "output_type": "stream",
          "name": "stdout",
          "text": [
            "1/1 [==============================] - 0s 112ms/step\n",
            "1/1 [==============================] - 0s 8ms/step\n",
            "Ожидаемый тип: Incident\n",
            "Предсказанный тип: Incident\n",
            "Результат совпадает? Да\n",
            "1/1 [==============================] - 0s 123ms/step\n",
            "1/1 [==============================] - 0s 11ms/step\n",
            "Ожидаемый тип: Request\n",
            "Предсказанный тип: Problem\n",
            "Результат совпадает? Нет\n",
            "1/1 [==============================] - 0s 110ms/step\n",
            "1/1 [==============================] - 0s 8ms/step\n",
            "Ожидаемый тип: Problem\n",
            "Предсказанный тип: Incident\n",
            "Результат совпадает? Нет\n"
          ]
        },
        {
          "output_type": "stream",
          "name": "stderr",
          "text": [
            "WARNING:tensorflow:5 out of the last 9 calls to <function Model.make_predict_function.<locals>.predict_function at 0x7d1ff5e05da0> triggered tf.function retracing. Tracing is expensive and the excessive number of tracings could be due to (1) creating @tf.function repeatedly in a loop, (2) passing tensors with different shapes, (3) passing Python objects instead of tensors. For (1), please define your @tf.function outside of the loop. For (2), @tf.function has reduce_retracing=True option that can avoid unnecessary retracing. For (3), please refer to https://www.tensorflow.org/guide/function#controlling_retracing and https://www.tensorflow.org/api_docs/python/tf/function for  more details.\n"
          ]
        },
        {
          "output_type": "stream",
          "name": "stdout",
          "text": [
            "1/1 [==============================] - 0s 236ms/step\n",
            "1/1 [==============================] - 0s 24ms/step\n",
            "Ожидаемый тип: Change\n",
            "Предсказанный тип: Change\n",
            "Результат совпадает? Да\n"
          ]
        }
      ]
    },
    {
      "cell_type": "markdown",
      "source": [
        "Создадим матрицу ошибок:"
      ],
      "metadata": {
        "id": "tU6ziu5rywFy"
      }
    },
    {
      "cell_type": "code",
      "source": [
        "labels = sorted(list(set(y_test))) #получаем уникальные метки классов\n",
        "cm = confusion_matrix(y_test, predicted_y, labels=labels) #строим матрицу ошибок\n",
        "#визуализируем матрицу ошибок\n",
        "plt.figure(figsize=(10, 8))\n",
        "sns.heatmap(cm, annot=True, fmt='d', cmap='Blues', xticklabels=labels, yticklabels=labels)\n",
        "plt.xlabel('Предсказанные классы')\n",
        "plt.ylabel('Истинные классы')\n",
        "plt.title('Матрица ошибок')\n",
        "plt.show()"
      ],
      "metadata": {
        "id": "65-eV_NcBbkp",
        "colab": {
          "base_uri": "https://localhost:8080/",
          "height": 718
        },
        "outputId": "564f45f0-85d0-4f13-ed77-83ee21743cf2"
      },
      "execution_count": null,
      "outputs": [
        {
          "output_type": "display_data",
          "data": {
            "text/plain": [
              "<Figure size 1000x800 with 2 Axes>"
            ],
            "image/png": "[encoded data removed]"
          },
          "metadata": {}
        }
      ]
    }
  ]
}